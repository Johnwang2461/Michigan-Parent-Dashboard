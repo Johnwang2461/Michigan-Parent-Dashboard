{
 "cells": [
  {
   "cell_type": "markdown",
   "id": "6bde29f5",
   "metadata": {},
   "source": [
    "## INSTALLATIONS"
   ]
  },
  {
   "cell_type": "code",
   "execution_count": 1,
   "id": "236d79f4",
   "metadata": {
    "scrolled": false
   },
   "outputs": [
    {
     "name": "stdout",
     "output_type": "stream",
     "text": [
      "Collecting package metadata (current_repodata.json): ...working... done\n",
      "Solving environment: ...working... done\n",
      "\n",
      "## Package Plan ##\n",
      "\n",
      "  environment location: C:\\Users\\johnw\\anaconda3\n",
      "\n",
      "  added / updated specs:\n",
      "    - pandas\n",
      "\n",
      "\n",
      "The following packages will be downloaded:\n",
      "\n",
      "    package                    |            build\n",
      "    ---------------------------|-----------------\n",
      "    conda-22.11.1              |   py39haa95532_4         892 KB\n",
      "    ruamel.yaml-0.16.12        |   py39h2bbff1b_1         181 KB  anaconda\n",
      "    ruamel.yaml.clib-0.2.6     |   py39h2bbff1b_1         101 KB\n",
      "    ------------------------------------------------------------\n",
      "                                           Total:         1.1 MB\n",
      "\n",
      "The following NEW packages will be INSTALLED:\n",
      "\n",
      "  ruamel.yaml        anaconda/win-64::ruamel.yaml-0.16.12-py39h2bbff1b_1 None\n",
      "  ruamel.yaml.clib   pkgs/main/win-64::ruamel.yaml.clib-0.2.6-py39h2bbff1b_1 None\n",
      "\n",
      "The following packages will be UPDATED:\n",
      "\n",
      "  conda                               22.9.0-py39haa95532_0 --> 22.11.1-py39haa95532_4 None\n",
      "\n",
      "\n",
      "\n",
      "Downloading and Extracting Packages\n",
      "\n",
      "ruamel.yaml-0.16.12  | 181 KB    |            |   0% \n",
      "ruamel.yaml-0.16.12  | 181 KB    | 8          |   9% \n",
      "ruamel.yaml-0.16.12  | 181 KB    | ########## | 100% \n",
      "ruamel.yaml-0.16.12  | 181 KB    | ########## | 100% \n",
      "\n",
      "conda-22.11.1        | 892 KB    |            |   0% \n",
      "conda-22.11.1        | 892 KB    | 1          |   2% \n",
      "conda-22.11.1        | 892 KB    | ####3      |  43% \n",
      "conda-22.11.1        | 892 KB    | ########## | 100% \n",
      "conda-22.11.1        | 892 KB    | ########## | 100% \n",
      "\n",
      "ruamel.yaml.clib-0.2 | 101 KB    |            |   0% \n",
      "ruamel.yaml.clib-0.2 | 101 KB    | ########## | 100% \n",
      "ruamel.yaml.clib-0.2 | 101 KB    | ########## | 100% \n",
      "Preparing transaction: ...working... done\n",
      "Verifying transaction: ...working... done\n",
      "Executing transaction: ...working... done\n",
      "Retrieving notices: ...working... done\n",
      "\n",
      "Note: you may need to restart the kernel to use updated packages.\n"
     ]
    }
   ],
   "source": [
    "conda install -c anaconda pandas"
   ]
  },
  {
   "cell_type": "code",
   "execution_count": 2,
   "id": "95e23977",
   "metadata": {},
   "outputs": [
    {
     "name": "stdout",
     "output_type": "stream",
     "text": [
      "Collecting package metadata (current_repodata.json): ...working... done\n",
      "Solving environment: ...working... done\n",
      "\n",
      "## Package Plan ##\n",
      "\n",
      "  environment location: C:\\Users\\johnw\\anaconda3\n",
      "\n",
      "  added / updated specs:\n",
      "    - numpy\n",
      "\n",
      "\n",
      "The following packages will be downloaded:\n",
      "\n",
      "    package                    |            build\n",
      "    ---------------------------|-----------------\n",
      "    numpy-1.21.5               |   py39h7a0a035_3          24 KB  anaconda\n",
      "    ------------------------------------------------------------\n",
      "                                           Total:          24 KB\n",
      "\n",
      "The following packages will be SUPERSEDED by a higher-priority channel:\n",
      "\n",
      "  numpy                                           pkgs/main --> anaconda \n",
      "\n",
      "\n",
      "\n",
      "Downloading and Extracting Packages\n",
      "\n",
      "numpy-1.21.5         | 24 KB     |            |   0% \n",
      "numpy-1.21.5         | 24 KB     | ######5    |  66% \n",
      "numpy-1.21.5         | 24 KB     | ########## | 100% \n",
      "                                                     \n",
      "\n",
      "\n",
      "Preparing transaction: ...working... done\n",
      "Verifying transaction: ...working... done\n",
      "Executing transaction: ...working... done\n",
      "\n",
      "Note: you may need to restart the kernel to use updated packages.\n"
     ]
    }
   ],
   "source": [
    "conda install -c anaconda numpy"
   ]
  },
  {
   "cell_type": "code",
   "execution_count": 7,
   "id": "0f2b4492",
   "metadata": {},
   "outputs": [
    {
     "name": "stdout",
     "output_type": "stream",
     "text": [
      "Requirement already satisfied: scipy in c:\\users\\johnw\\anaconda3\\lib\\site-packages (1.9.1)\n",
      "Requirement already satisfied: numpy<1.25.0,>=1.18.5 in c:\\users\\johnw\\anaconda3\\lib\\site-packages (from scipy) (1.21.5)\n",
      "Note: you may need to restart the kernel to use updated packages.\n"
     ]
    }
   ],
   "source": [
    "pip install scipy"
   ]
  },
  {
   "cell_type": "code",
   "execution_count": 7,
   "id": "4ae8bb5f",
   "metadata": {
    "scrolled": false
   },
   "outputs": [
    {
     "name": "stdout",
     "output_type": "stream",
     "text": [
      "Requirement already satisfied: jupyter_contrib_nbextensions in c:\\users\\johnw\\anaconda3\\lib\\site-packages (0.7.0)\n",
      "Requirement already satisfied: jupyter-contrib-core>=0.3.3 in c:\\users\\johnw\\anaconda3\\lib\\site-packages (from jupyter_contrib_nbextensions) (0.4.2)\n",
      "Requirement already satisfied: nbconvert>=6.0 in c:\\users\\johnw\\anaconda3\\lib\\site-packages (from jupyter_contrib_nbextensions) (6.4.4)\n",
      "Requirement already satisfied: notebook>=6.0 in c:\\users\\johnw\\anaconda3\\lib\\site-packages (from jupyter_contrib_nbextensions) (6.4.12)\n",
      "Requirement already satisfied: traitlets>=4.1 in c:\\users\\johnw\\anaconda3\\lib\\site-packages (from jupyter_contrib_nbextensions) (5.1.1)\n",
      "Requirement already satisfied: tornado in c:\\users\\johnw\\anaconda3\\lib\\site-packages (from jupyter_contrib_nbextensions) (6.1)\n",
      "Requirement already satisfied: jupyter-nbextensions-configurator>=0.4.0 in c:\\users\\johnw\\anaconda3\\lib\\site-packages (from jupyter_contrib_nbextensions) (0.6.1)\n",
      "Requirement already satisfied: lxml in c:\\users\\johnw\\anaconda3\\lib\\site-packages (from jupyter_contrib_nbextensions) (4.9.1)\n",
      "Requirement already satisfied: jupyter-core in c:\\users\\johnw\\anaconda3\\lib\\site-packages (from jupyter_contrib_nbextensions) (4.11.1)\n",
      "Requirement already satisfied: jupyter-highlight-selected-word>=0.1.1 in c:\\users\\johnw\\anaconda3\\lib\\site-packages (from jupyter_contrib_nbextensions) (0.2.0)\n",
      "Requirement already satisfied: ipython-genutils in c:\\users\\johnw\\anaconda3\\lib\\site-packages (from jupyter_contrib_nbextensions) (0.2.0)\n",
      "Requirement already satisfied: setuptools in c:\\users\\johnw\\anaconda3\\lib\\site-packages (from jupyter-contrib-core>=0.3.3->jupyter_contrib_nbextensions) (63.4.1)\n",
      "Requirement already satisfied: pyyaml in c:\\users\\johnw\\anaconda3\\lib\\site-packages (from jupyter-nbextensions-configurator>=0.4.0->jupyter_contrib_nbextensions) (6.0)\n",
      "Requirement already satisfied: beautifulsoup4 in c:\\users\\johnw\\anaconda3\\lib\\site-packages (from nbconvert>=6.0->jupyter_contrib_nbextensions) (4.11.1)\n",
      "Requirement already satisfied: jinja2>=2.4 in c:\\users\\johnw\\anaconda3\\lib\\site-packages (from nbconvert>=6.0->jupyter_contrib_nbextensions) (2.11.3)\n",
      "Requirement already satisfied: entrypoints>=0.2.2 in c:\\users\\johnw\\anaconda3\\lib\\site-packages (from nbconvert>=6.0->jupyter_contrib_nbextensions) (0.4)\n",
      "Requirement already satisfied: pandocfilters>=1.4.1 in c:\\users\\johnw\\anaconda3\\lib\\site-packages (from nbconvert>=6.0->jupyter_contrib_nbextensions) (1.5.0)\n",
      "Requirement already satisfied: testpath in c:\\users\\johnw\\anaconda3\\lib\\site-packages (from nbconvert>=6.0->jupyter_contrib_nbextensions) (0.6.0)\n",
      "Requirement already satisfied: jupyterlab-pygments in c:\\users\\johnw\\anaconda3\\lib\\site-packages (from nbconvert>=6.0->jupyter_contrib_nbextensions) (0.1.2)\n",
      "Requirement already satisfied: bleach in c:\\users\\johnw\\anaconda3\\lib\\site-packages (from nbconvert>=6.0->jupyter_contrib_nbextensions) (4.1.0)\n",
      "Requirement already satisfied: nbclient<0.6.0,>=0.5.0 in c:\\users\\johnw\\anaconda3\\lib\\site-packages (from nbconvert>=6.0->jupyter_contrib_nbextensions) (0.5.13)\n",
      "Requirement already satisfied: nbformat>=4.4 in c:\\users\\johnw\\anaconda3\\lib\\site-packages (from nbconvert>=6.0->jupyter_contrib_nbextensions) (5.5.0)\n",
      "Requirement already satisfied: pygments>=2.4.1 in c:\\users\\johnw\\anaconda3\\lib\\site-packages (from nbconvert>=6.0->jupyter_contrib_nbextensions) (2.11.2)\n",
      "Requirement already satisfied: defusedxml in c:\\users\\johnw\\anaconda3\\lib\\site-packages (from nbconvert>=6.0->jupyter_contrib_nbextensions) (0.7.1)\n",
      "Requirement already satisfied: mistune<2,>=0.8.1 in c:\\users\\johnw\\anaconda3\\lib\\site-packages (from nbconvert>=6.0->jupyter_contrib_nbextensions) (0.8.4)\n",
      "Requirement already satisfied: jupyter-client>=5.3.4 in c:\\users\\johnw\\anaconda3\\lib\\site-packages (from notebook>=6.0->jupyter_contrib_nbextensions) (7.3.4)\n",
      "Requirement already satisfied: ipykernel in c:\\users\\johnw\\anaconda3\\lib\\site-packages (from notebook>=6.0->jupyter_contrib_nbextensions) (6.15.2)\n",
      "Requirement already satisfied: nest-asyncio>=1.5 in c:\\users\\johnw\\anaconda3\\lib\\site-packages (from notebook>=6.0->jupyter_contrib_nbextensions) (1.5.5)\n",
      "Requirement already satisfied: argon2-cffi in c:\\users\\johnw\\anaconda3\\lib\\site-packages (from notebook>=6.0->jupyter_contrib_nbextensions) (21.3.0)\n",
      "Requirement already satisfied: pyzmq>=17 in c:\\users\\johnw\\anaconda3\\lib\\site-packages (from notebook>=6.0->jupyter_contrib_nbextensions) (23.2.0)\n",
      "Requirement already satisfied: prometheus-client in c:\\users\\johnw\\anaconda3\\lib\\site-packages (from notebook>=6.0->jupyter_contrib_nbextensions) (0.14.1)\n",
      "Requirement already satisfied: terminado>=0.8.3 in c:\\users\\johnw\\anaconda3\\lib\\site-packages (from notebook>=6.0->jupyter_contrib_nbextensions) (0.13.1)\n",
      "Requirement already satisfied: Send2Trash>=1.8.0 in c:\\users\\johnw\\anaconda3\\lib\\site-packages (from notebook>=6.0->jupyter_contrib_nbextensions) (1.8.0)\n",
      "Requirement already satisfied: pywin32>=1.0 in c:\\users\\johnw\\anaconda3\\lib\\site-packages (from jupyter-core->jupyter_contrib_nbextensions) (302)\n",
      "Requirement already satisfied: MarkupSafe>=0.23 in c:\\users\\johnw\\anaconda3\\lib\\site-packages (from jinja2>=2.4->nbconvert>=6.0->jupyter_contrib_nbextensions) (2.0.1)\n",
      "Requirement already satisfied: python-dateutil>=2.8.2 in c:\\users\\johnw\\anaconda3\\lib\\site-packages (from jupyter-client>=5.3.4->notebook>=6.0->jupyter_contrib_nbextensions) (2.8.2)\n",
      "Requirement already satisfied: fastjsonschema in c:\\users\\johnw\\anaconda3\\lib\\site-packages (from nbformat>=4.4->nbconvert>=6.0->jupyter_contrib_nbextensions) (2.16.2)\n",
      "Requirement already satisfied: jsonschema>=2.6 in c:\\users\\johnw\\anaconda3\\lib\\site-packages (from nbformat>=4.4->nbconvert>=6.0->jupyter_contrib_nbextensions) (4.16.0)\n",
      "Requirement already satisfied: pywinpty>=1.1.0 in c:\\users\\johnw\\anaconda3\\lib\\site-packages (from terminado>=0.8.3->notebook>=6.0->jupyter_contrib_nbextensions) (2.0.2)\n",
      "Requirement already satisfied: argon2-cffi-bindings in c:\\users\\johnw\\anaconda3\\lib\\site-packages (from argon2-cffi->notebook>=6.0->jupyter_contrib_nbextensions) (21.2.0)\n",
      "Requirement already satisfied: soupsieve>1.2 in c:\\users\\johnw\\anaconda3\\lib\\site-packages (from beautifulsoup4->nbconvert>=6.0->jupyter_contrib_nbextensions) (2.3.1)\n",
      "Requirement already satisfied: packaging in c:\\users\\johnw\\anaconda3\\lib\\site-packages (from bleach->nbconvert>=6.0->jupyter_contrib_nbextensions) (21.3)\n",
      "Requirement already satisfied: webencodings in c:\\users\\johnw\\anaconda3\\lib\\site-packages (from bleach->nbconvert>=6.0->jupyter_contrib_nbextensions) (0.5.1)\n",
      "Requirement already satisfied: six>=1.9.0 in c:\\users\\johnw\\anaconda3\\lib\\site-packages (from bleach->nbconvert>=6.0->jupyter_contrib_nbextensions) (1.16.0)\n",
      "Requirement already satisfied: psutil in c:\\users\\johnw\\anaconda3\\lib\\site-packages (from ipykernel->notebook>=6.0->jupyter_contrib_nbextensions) (5.9.0)\n",
      "Requirement already satisfied: matplotlib-inline>=0.1 in c:\\users\\johnw\\anaconda3\\lib\\site-packages (from ipykernel->notebook>=6.0->jupyter_contrib_nbextensions) (0.1.6)\n",
      "Requirement already satisfied: ipython>=7.23.1 in c:\\users\\johnw\\anaconda3\\lib\\site-packages (from ipykernel->notebook>=6.0->jupyter_contrib_nbextensions) (7.31.1)\n",
      "Requirement already satisfied: debugpy>=1.0 in c:\\users\\johnw\\anaconda3\\lib\\site-packages (from ipykernel->notebook>=6.0->jupyter_contrib_nbextensions) (1.5.1)\n",
      "Requirement already satisfied: backcall in c:\\users\\johnw\\anaconda3\\lib\\site-packages (from ipython>=7.23.1->ipykernel->notebook>=6.0->jupyter_contrib_nbextensions) (0.2.0)\n",
      "Requirement already satisfied: colorama in c:\\users\\johnw\\anaconda3\\lib\\site-packages (from ipython>=7.23.1->ipykernel->notebook>=6.0->jupyter_contrib_nbextensions) (0.4.5)\n",
      "Requirement already satisfied: pickleshare in c:\\users\\johnw\\anaconda3\\lib\\site-packages (from ipython>=7.23.1->ipykernel->notebook>=6.0->jupyter_contrib_nbextensions) (0.7.5)\n",
      "Requirement already satisfied: jedi>=0.16 in c:\\users\\johnw\\anaconda3\\lib\\site-packages (from ipython>=7.23.1->ipykernel->notebook>=6.0->jupyter_contrib_nbextensions) (0.18.1)\n",
      "Requirement already satisfied: decorator in c:\\users\\johnw\\anaconda3\\lib\\site-packages (from ipython>=7.23.1->ipykernel->notebook>=6.0->jupyter_contrib_nbextensions) (5.1.1)\n",
      "Requirement already satisfied: prompt-toolkit!=3.0.0,!=3.0.1,<3.1.0,>=2.0.0 in c:\\users\\johnw\\anaconda3\\lib\\site-packages (from ipython>=7.23.1->ipykernel->notebook>=6.0->jupyter_contrib_nbextensions) (3.0.20)\n",
      "Requirement already satisfied: attrs>=17.4.0 in c:\\users\\johnw\\anaconda3\\lib\\site-packages (from jsonschema>=2.6->nbformat>=4.4->nbconvert>=6.0->jupyter_contrib_nbextensions) (21.4.0)\n",
      "Requirement already satisfied: pyrsistent!=0.17.0,!=0.17.1,!=0.17.2,>=0.14.0 in c:\\users\\johnw\\anaconda3\\lib\\site-packages (from jsonschema>=2.6->nbformat>=4.4->nbconvert>=6.0->jupyter_contrib_nbextensions) (0.18.0)\n",
      "Requirement already satisfied: cffi>=1.0.1 in c:\\users\\johnw\\anaconda3\\lib\\site-packages (from argon2-cffi-bindings->argon2-cffi->notebook>=6.0->jupyter_contrib_nbextensions) (1.15.1)\n",
      "Requirement already satisfied: pyparsing!=3.0.5,>=2.0.2 in c:\\users\\johnw\\anaconda3\\lib\\site-packages (from packaging->bleach->nbconvert>=6.0->jupyter_contrib_nbextensions) (3.0.9)\n",
      "Requirement already satisfied: pycparser in c:\\users\\johnw\\anaconda3\\lib\\site-packages (from cffi>=1.0.1->argon2-cffi-bindings->argon2-cffi->notebook>=6.0->jupyter_contrib_nbextensions) (2.21)\n",
      "Requirement already satisfied: parso<0.9.0,>=0.8.0 in c:\\users\\johnw\\anaconda3\\lib\\site-packages (from jedi>=0.16->ipython>=7.23.1->ipykernel->notebook>=6.0->jupyter_contrib_nbextensions) (0.8.3)\n",
      "Requirement already satisfied: wcwidth in c:\\users\\johnw\\anaconda3\\lib\\site-packages (from prompt-toolkit!=3.0.0,!=3.0.1,<3.1.0,>=2.0.0->ipython>=7.23.1->ipykernel->notebook>=6.0->jupyter_contrib_nbextensions) (0.2.5)\n",
      "Note: you may need to restart the kernel to use updated packages.\n"
     ]
    }
   ],
   "source": [
    "pip install jupyter_contrib_nbextensions"
   ]
  },
  {
   "cell_type": "code",
   "execution_count": 11,
   "id": "d0b0f636",
   "metadata": {},
   "outputs": [
    {
     "name": "stdout",
     "output_type": "stream",
     "text": [
      "Requirement already satisfied: jupyter in c:\\users\\johnw\\anaconda3\\lib\\site-packages (1.0.0)\n",
      "Requirement already satisfied: nbconvert[webpdf] in c:\\users\\johnw\\anaconda3\\lib\\site-packages (6.4.4)\n",
      "Requirement already satisfied: ipywidgets in c:\\users\\johnw\\anaconda3\\lib\\site-packages (from jupyter) (7.6.5)\n",
      "Requirement already satisfied: ipykernel in c:\\users\\johnw\\anaconda3\\lib\\site-packages (from jupyter) (6.15.2)\n",
      "Requirement already satisfied: jupyter-console in c:\\users\\johnw\\anaconda3\\lib\\site-packages (from jupyter) (6.4.3)\n",
      "Requirement already satisfied: notebook in c:\\users\\johnw\\anaconda3\\lib\\site-packages (from jupyter) (6.4.12)\n",
      "Requirement already satisfied: qtconsole in c:\\users\\johnw\\anaconda3\\lib\\site-packages (from jupyter) (5.2.2)\n",
      "Requirement already satisfied: pygments>=2.4.1 in c:\\users\\johnw\\anaconda3\\lib\\site-packages (from nbconvert[webpdf]) (2.11.2)\n",
      "Requirement already satisfied: defusedxml in c:\\users\\johnw\\anaconda3\\lib\\site-packages (from nbconvert[webpdf]) (0.7.1)\n",
      "Requirement already satisfied: jupyterlab-pygments in c:\\users\\johnw\\anaconda3\\lib\\site-packages (from nbconvert[webpdf]) (0.1.2)\n",
      "Requirement already satisfied: mistune<2,>=0.8.1 in c:\\users\\johnw\\anaconda3\\lib\\site-packages (from nbconvert[webpdf]) (0.8.4)\n",
      "Requirement already satisfied: jupyter-core in c:\\users\\johnw\\anaconda3\\lib\\site-packages (from nbconvert[webpdf]) (4.11.1)\n",
      "Requirement already satisfied: nbclient<0.6.0,>=0.5.0 in c:\\users\\johnw\\anaconda3\\lib\\site-packages (from nbconvert[webpdf]) (0.5.13)\n",
      "Requirement already satisfied: testpath in c:\\users\\johnw\\anaconda3\\lib\\site-packages (from nbconvert[webpdf]) (0.6.0)\n",
      "Requirement already satisfied: pandocfilters>=1.4.1 in c:\\users\\johnw\\anaconda3\\lib\\site-packages (from nbconvert[webpdf]) (1.5.0)\n",
      "Requirement already satisfied: nbformat>=4.4 in c:\\users\\johnw\\anaconda3\\lib\\site-packages (from nbconvert[webpdf]) (5.5.0)\n",
      "Requirement already satisfied: bleach in c:\\users\\johnw\\anaconda3\\lib\\site-packages (from nbconvert[webpdf]) (4.1.0)\n",
      "Requirement already satisfied: entrypoints>=0.2.2 in c:\\users\\johnw\\anaconda3\\lib\\site-packages (from nbconvert[webpdf]) (0.4)\n",
      "Requirement already satisfied: jinja2>=2.4 in c:\\users\\johnw\\anaconda3\\lib\\site-packages (from nbconvert[webpdf]) (2.11.3)\n",
      "Requirement already satisfied: traitlets>=5.0 in c:\\users\\johnw\\anaconda3\\lib\\site-packages (from nbconvert[webpdf]) (5.1.1)\n",
      "Requirement already satisfied: beautifulsoup4 in c:\\users\\johnw\\anaconda3\\lib\\site-packages (from nbconvert[webpdf]) (4.11.1)\n",
      "Collecting pyppeteer<1.1,>=1\n",
      "  Downloading pyppeteer-1.0.2-py3-none-any.whl (83 kB)\n",
      "     ---------------------------------------- 83.4/83.4 kB 2.4 MB/s eta 0:00:00\n",
      "Requirement already satisfied: MarkupSafe>=0.23 in c:\\users\\johnw\\anaconda3\\lib\\site-packages (from jinja2>=2.4->nbconvert[webpdf]) (2.0.1)\n",
      "Requirement already satisfied: jupyter-client>=6.1.5 in c:\\users\\johnw\\anaconda3\\lib\\site-packages (from nbclient<0.6.0,>=0.5.0->nbconvert[webpdf]) (7.3.4)\n",
      "Requirement already satisfied: nest-asyncio in c:\\users\\johnw\\anaconda3\\lib\\site-packages (from nbclient<0.6.0,>=0.5.0->nbconvert[webpdf]) (1.5.5)\n",
      "Requirement already satisfied: jsonschema>=2.6 in c:\\users\\johnw\\anaconda3\\lib\\site-packages (from nbformat>=4.4->nbconvert[webpdf]) (4.16.0)\n",
      "Requirement already satisfied: fastjsonschema in c:\\users\\johnw\\anaconda3\\lib\\site-packages (from nbformat>=4.4->nbconvert[webpdf]) (2.16.2)\n",
      "Requirement already satisfied: tqdm<5.0.0,>=4.42.1 in c:\\users\\johnw\\anaconda3\\lib\\site-packages (from pyppeteer<1.1,>=1->nbconvert[webpdf]) (4.64.1)\n",
      "Requirement already satisfied: urllib3<2.0.0,>=1.25.8 in c:\\users\\johnw\\anaconda3\\lib\\site-packages (from pyppeteer<1.1,>=1->nbconvert[webpdf]) (1.26.11)\n",
      "Collecting websockets<11.0,>=10.0\n",
      "  Downloading websockets-10.4-cp39-cp39-win_amd64.whl (101 kB)\n",
      "     -------------------------------------- 101.4/101.4 kB 5.7 MB/s eta 0:00:00\n",
      "Requirement already satisfied: certifi>=2021 in c:\\users\\johnw\\anaconda3\\lib\\site-packages (from pyppeteer<1.1,>=1->nbconvert[webpdf]) (2022.9.14)\n",
      "Requirement already satisfied: appdirs<2.0.0,>=1.4.3 in c:\\users\\johnw\\anaconda3\\lib\\site-packages (from pyppeteer<1.1,>=1->nbconvert[webpdf]) (1.4.4)\n",
      "Collecting pyee<9.0.0,>=8.1.0\n",
      "  Downloading pyee-8.2.2-py2.py3-none-any.whl (12 kB)\n",
      "Requirement already satisfied: importlib-metadata>=1.4 in c:\\users\\johnw\\anaconda3\\lib\\site-packages (from pyppeteer<1.1,>=1->nbconvert[webpdf]) (4.11.3)\n",
      "Requirement already satisfied: soupsieve>1.2 in c:\\users\\johnw\\anaconda3\\lib\\site-packages (from beautifulsoup4->nbconvert[webpdf]) (2.3.1)\n",
      "Requirement already satisfied: webencodings in c:\\users\\johnw\\anaconda3\\lib\\site-packages (from bleach->nbconvert[webpdf]) (0.5.1)\n",
      "Requirement already satisfied: six>=1.9.0 in c:\\users\\johnw\\anaconda3\\lib\\site-packages (from bleach->nbconvert[webpdf]) (1.16.0)\n",
      "Requirement already satisfied: packaging in c:\\users\\johnw\\anaconda3\\lib\\site-packages (from bleach->nbconvert[webpdf]) (21.3)\n",
      "Requirement already satisfied: ipython>=7.23.1 in c:\\users\\johnw\\anaconda3\\lib\\site-packages (from ipykernel->jupyter) (7.31.1)\n",
      "Requirement already satisfied: matplotlib-inline>=0.1 in c:\\users\\johnw\\anaconda3\\lib\\site-packages (from ipykernel->jupyter) (0.1.6)\n",
      "Requirement already satisfied: psutil in c:\\users\\johnw\\anaconda3\\lib\\site-packages (from ipykernel->jupyter) (5.9.0)\n",
      "Requirement already satisfied: tornado>=6.1 in c:\\users\\johnw\\anaconda3\\lib\\site-packages (from ipykernel->jupyter) (6.1)\n",
      "Requirement already satisfied: debugpy>=1.0 in c:\\users\\johnw\\anaconda3\\lib\\site-packages (from ipykernel->jupyter) (1.5.1)\n",
      "Requirement already satisfied: pyzmq>=17 in c:\\users\\johnw\\anaconda3\\lib\\site-packages (from ipykernel->jupyter) (23.2.0)\n",
      "Requirement already satisfied: jupyterlab-widgets>=1.0.0 in c:\\users\\johnw\\anaconda3\\lib\\site-packages (from ipywidgets->jupyter) (1.0.0)\n",
      "Requirement already satisfied: ipython-genutils~=0.2.0 in c:\\users\\johnw\\anaconda3\\lib\\site-packages (from ipywidgets->jupyter) (0.2.0)\n",
      "Requirement already satisfied: widgetsnbextension~=3.5.0 in c:\\users\\johnw\\anaconda3\\lib\\site-packages (from ipywidgets->jupyter) (3.5.2)\n",
      "Requirement already satisfied: prompt-toolkit!=3.0.0,!=3.0.1,<3.1.0,>=2.0.0 in c:\\users\\johnw\\anaconda3\\lib\\site-packages (from jupyter-console->jupyter) (3.0.20)\n",
      "Requirement already satisfied: pywin32>=1.0 in c:\\users\\johnw\\anaconda3\\lib\\site-packages (from jupyter-core->nbconvert[webpdf]) (302)\n",
      "Requirement already satisfied: terminado>=0.8.3 in c:\\users\\johnw\\anaconda3\\lib\\site-packages (from notebook->jupyter) (0.13.1)\n",
      "Requirement already satisfied: Send2Trash>=1.8.0 in c:\\users\\johnw\\anaconda3\\lib\\site-packages (from notebook->jupyter) (1.8.0)\n",
      "Requirement already satisfied: prometheus-client in c:\\users\\johnw\\anaconda3\\lib\\site-packages (from notebook->jupyter) (0.14.1)\n",
      "Requirement already satisfied: argon2-cffi in c:\\users\\johnw\\anaconda3\\lib\\site-packages (from notebook->jupyter) (21.3.0)\n",
      "Requirement already satisfied: qtpy in c:\\users\\johnw\\anaconda3\\lib\\site-packages (from qtconsole->jupyter) (2.2.0)\n",
      "Requirement already satisfied: zipp>=0.5 in c:\\users\\johnw\\anaconda3\\lib\\site-packages (from importlib-metadata>=1.4->pyppeteer<1.1,>=1->nbconvert[webpdf]) (3.8.0)\n",
      "Requirement already satisfied: decorator in c:\\users\\johnw\\anaconda3\\lib\\site-packages (from ipython>=7.23.1->ipykernel->jupyter) (5.1.1)\n",
      "Requirement already satisfied: pickleshare in c:\\users\\johnw\\anaconda3\\lib\\site-packages (from ipython>=7.23.1->ipykernel->jupyter) (0.7.5)\n",
      "Requirement already satisfied: colorama in c:\\users\\johnw\\anaconda3\\lib\\site-packages (from ipython>=7.23.1->ipykernel->jupyter) (0.4.5)\n",
      "Requirement already satisfied: setuptools>=18.5 in c:\\users\\johnw\\anaconda3\\lib\\site-packages (from ipython>=7.23.1->ipykernel->jupyter) (63.4.1)\n",
      "Requirement already satisfied: backcall in c:\\users\\johnw\\anaconda3\\lib\\site-packages (from ipython>=7.23.1->ipykernel->jupyter) (0.2.0)\n",
      "Requirement already satisfied: jedi>=0.16 in c:\\users\\johnw\\anaconda3\\lib\\site-packages (from ipython>=7.23.1->ipykernel->jupyter) (0.18.1)\n",
      "Requirement already satisfied: pyrsistent!=0.17.0,!=0.17.1,!=0.17.2,>=0.14.0 in c:\\users\\johnw\\anaconda3\\lib\\site-packages (from jsonschema>=2.6->nbformat>=4.4->nbconvert[webpdf]) (0.18.0)\n",
      "Requirement already satisfied: attrs>=17.4.0 in c:\\users\\johnw\\anaconda3\\lib\\site-packages (from jsonschema>=2.6->nbformat>=4.4->nbconvert[webpdf]) (21.4.0)\n",
      "Requirement already satisfied: python-dateutil>=2.8.2 in c:\\users\\johnw\\anaconda3\\lib\\site-packages (from jupyter-client>=6.1.5->nbclient<0.6.0,>=0.5.0->nbconvert[webpdf]) (2.8.2)\n",
      "Requirement already satisfied: wcwidth in c:\\users\\johnw\\anaconda3\\lib\\site-packages (from prompt-toolkit!=3.0.0,!=3.0.1,<3.1.0,>=2.0.0->jupyter-console->jupyter) (0.2.5)\n",
      "Requirement already satisfied: pywinpty>=1.1.0 in c:\\users\\johnw\\anaconda3\\lib\\site-packages (from terminado>=0.8.3->notebook->jupyter) (2.0.2)\n",
      "Requirement already satisfied: argon2-cffi-bindings in c:\\users\\johnw\\anaconda3\\lib\\site-packages (from argon2-cffi->notebook->jupyter) (21.2.0)\n",
      "Requirement already satisfied: pyparsing!=3.0.5,>=2.0.2 in c:\\users\\johnw\\anaconda3\\lib\\site-packages (from packaging->bleach->nbconvert[webpdf]) (3.0.9)\n",
      "Requirement already satisfied: parso<0.9.0,>=0.8.0 in c:\\users\\johnw\\anaconda3\\lib\\site-packages (from jedi>=0.16->ipython>=7.23.1->ipykernel->jupyter) (0.8.3)\n",
      "Requirement already satisfied: cffi>=1.0.1 in c:\\users\\johnw\\anaconda3\\lib\\site-packages (from argon2-cffi-bindings->argon2-cffi->notebook->jupyter) (1.15.1)\n",
      "Requirement already satisfied: pycparser in c:\\users\\johnw\\anaconda3\\lib\\site-packages (from cffi>=1.0.1->argon2-cffi-bindings->argon2-cffi->notebook->jupyter) (2.21)\n",
      "Installing collected packages: pyee, websockets, pyppeteer\n",
      "Successfully installed pyee-8.2.2 pyppeteer-1.0.2 websockets-10.4\n",
      "Note: you may need to restart the kernel to use updated packages.\n"
     ]
    }
   ],
   "source": [
    "pip install jupyter nbconvert[webpdf]"
   ]
  },
  {
   "cell_type": "code",
   "execution_count": 14,
   "id": "9f913f63",
   "metadata": {},
   "outputs": [
    {
     "name": "stdout",
     "output_type": "stream",
     "text": [
      "Requirement already satisfied: nbconvert[webpdf] in c:\\users\\johnw\\anaconda3\\lib\\site-packages (6.4.4)\n",
      "Requirement already satisfied: entrypoints>=0.2.2 in c:\\users\\johnw\\anaconda3\\lib\\site-packages (from nbconvert[webpdf]) (0.4)\n",
      "Requirement already satisfied: defusedxml in c:\\users\\johnw\\anaconda3\\lib\\site-packages (from nbconvert[webpdf]) (0.7.1)\n",
      "Requirement already satisfied: traitlets>=5.0 in c:\\users\\johnw\\anaconda3\\lib\\site-packages (from nbconvert[webpdf]) (5.1.1)\n",
      "Requirement already satisfied: beautifulsoup4 in c:\\users\\johnw\\anaconda3\\lib\\site-packages (from nbconvert[webpdf]) (4.11.1)\n",
      "Requirement already satisfied: pandocfilters>=1.4.1 in c:\\users\\johnw\\anaconda3\\lib\\site-packages (from nbconvert[webpdf]) (1.5.0)\n",
      "Requirement already satisfied: nbformat>=4.4 in c:\\users\\johnw\\anaconda3\\lib\\site-packages (from nbconvert[webpdf]) (5.5.0)\n",
      "Requirement already satisfied: jinja2>=2.4 in c:\\users\\johnw\\anaconda3\\lib\\site-packages (from nbconvert[webpdf]) (2.11.3)\n",
      "Requirement already satisfied: jupyterlab-pygments in c:\\users\\johnw\\anaconda3\\lib\\site-packages (from nbconvert[webpdf]) (0.1.2)\n",
      "Requirement already satisfied: jupyter-core in c:\\users\\johnw\\anaconda3\\lib\\site-packages (from nbconvert[webpdf]) (4.11.1)\n",
      "Requirement already satisfied: nbclient<0.6.0,>=0.5.0 in c:\\users\\johnw\\anaconda3\\lib\\site-packages (from nbconvert[webpdf]) (0.5.13)\n",
      "Requirement already satisfied: mistune<2,>=0.8.1 in c:\\users\\johnw\\anaconda3\\lib\\site-packages (from nbconvert[webpdf]) (0.8.4)\n",
      "Requirement already satisfied: testpath in c:\\users\\johnw\\anaconda3\\lib\\site-packages (from nbconvert[webpdf]) (0.6.0)\n",
      "Requirement already satisfied: pygments>=2.4.1 in c:\\users\\johnw\\anaconda3\\lib\\site-packages (from nbconvert[webpdf]) (2.11.2)\n",
      "Requirement already satisfied: bleach in c:\\users\\johnw\\anaconda3\\lib\\site-packages (from nbconvert[webpdf]) (4.1.0)\n",
      "Requirement already satisfied: pyppeteer<1.1,>=1 in c:\\users\\johnw\\anaconda3\\lib\\site-packages (from nbconvert[webpdf]) (1.0.2)\n",
      "Requirement already satisfied: MarkupSafe>=0.23 in c:\\users\\johnw\\anaconda3\\lib\\site-packages (from jinja2>=2.4->nbconvert[webpdf]) (2.0.1)\n",
      "Requirement already satisfied: jupyter-client>=6.1.5 in c:\\users\\johnw\\anaconda3\\lib\\site-packages (from nbclient<0.6.0,>=0.5.0->nbconvert[webpdf]) (7.3.4)\n",
      "Requirement already satisfied: nest-asyncio in c:\\users\\johnw\\anaconda3\\lib\\site-packages (from nbclient<0.6.0,>=0.5.0->nbconvert[webpdf]) (1.5.5)\n",
      "Requirement already satisfied: jsonschema>=2.6 in c:\\users\\johnw\\anaconda3\\lib\\site-packages (from nbformat>=4.4->nbconvert[webpdf]) (4.16.0)\n",
      "Requirement already satisfied: fastjsonschema in c:\\users\\johnw\\anaconda3\\lib\\site-packages (from nbformat>=4.4->nbconvert[webpdf]) (2.16.2)\n",
      "Requirement already satisfied: importlib-metadata>=1.4 in c:\\users\\johnw\\anaconda3\\lib\\site-packages (from pyppeteer<1.1,>=1->nbconvert[webpdf]) (4.11.3)\n",
      "Requirement already satisfied: appdirs<2.0.0,>=1.4.3 in c:\\users\\johnw\\anaconda3\\lib\\site-packages (from pyppeteer<1.1,>=1->nbconvert[webpdf]) (1.4.4)\n",
      "Requirement already satisfied: urllib3<2.0.0,>=1.25.8 in c:\\users\\johnw\\anaconda3\\lib\\site-packages (from pyppeteer<1.1,>=1->nbconvert[webpdf]) (1.26.11)\n",
      "Requirement already satisfied: websockets<11.0,>=10.0 in c:\\users\\johnw\\anaconda3\\lib\\site-packages (from pyppeteer<1.1,>=1->nbconvert[webpdf]) (10.4)\n",
      "Requirement already satisfied: pyee<9.0.0,>=8.1.0 in c:\\users\\johnw\\anaconda3\\lib\\site-packages (from pyppeteer<1.1,>=1->nbconvert[webpdf]) (8.2.2)\n",
      "Requirement already satisfied: certifi>=2021 in c:\\users\\johnw\\anaconda3\\lib\\site-packages (from pyppeteer<1.1,>=1->nbconvert[webpdf]) (2022.9.14)\n",
      "Requirement already satisfied: tqdm<5.0.0,>=4.42.1 in c:\\users\\johnw\\anaconda3\\lib\\site-packages (from pyppeteer<1.1,>=1->nbconvert[webpdf]) (4.64.1)\n",
      "Requirement already satisfied: soupsieve>1.2 in c:\\users\\johnw\\anaconda3\\lib\\site-packages (from beautifulsoup4->nbconvert[webpdf]) (2.3.1)\n",
      "Requirement already satisfied: packaging in c:\\users\\johnw\\anaconda3\\lib\\site-packages (from bleach->nbconvert[webpdf]) (21.3)\n",
      "Requirement already satisfied: six>=1.9.0 in c:\\users\\johnw\\anaconda3\\lib\\site-packages (from bleach->nbconvert[webpdf]) (1.16.0)\n",
      "Requirement already satisfied: webencodings in c:\\users\\johnw\\anaconda3\\lib\\site-packages (from bleach->nbconvert[webpdf]) (0.5.1)\n",
      "Requirement already satisfied: pywin32>=1.0 in c:\\users\\johnw\\anaconda3\\lib\\site-packages (from jupyter-core->nbconvert[webpdf]) (302)\n",
      "Requirement already satisfied: zipp>=0.5 in c:\\users\\johnw\\anaconda3\\lib\\site-packages (from importlib-metadata>=1.4->pyppeteer<1.1,>=1->nbconvert[webpdf]) (3.8.0)\n",
      "Requirement already satisfied: pyrsistent!=0.17.0,!=0.17.1,!=0.17.2,>=0.14.0 in c:\\users\\johnw\\anaconda3\\lib\\site-packages (from jsonschema>=2.6->nbformat>=4.4->nbconvert[webpdf]) (0.18.0)\n",
      "Requirement already satisfied: attrs>=17.4.0 in c:\\users\\johnw\\anaconda3\\lib\\site-packages (from jsonschema>=2.6->nbformat>=4.4->nbconvert[webpdf]) (21.4.0)\n",
      "Requirement already satisfied: pyzmq>=23.0 in c:\\users\\johnw\\anaconda3\\lib\\site-packages (from jupyter-client>=6.1.5->nbclient<0.6.0,>=0.5.0->nbconvert[webpdf]) (23.2.0)\n",
      "Requirement already satisfied: tornado>=6.0 in c:\\users\\johnw\\anaconda3\\lib\\site-packages (from jupyter-client>=6.1.5->nbclient<0.6.0,>=0.5.0->nbconvert[webpdf]) (6.1)\n",
      "Requirement already satisfied: python-dateutil>=2.8.2 in c:\\users\\johnw\\anaconda3\\lib\\site-packages (from jupyter-client>=6.1.5->nbclient<0.6.0,>=0.5.0->nbconvert[webpdf]) (2.8.2)\n",
      "Requirement already satisfied: colorama in c:\\users\\johnw\\anaconda3\\lib\\site-packages (from tqdm<5.0.0,>=4.42.1->pyppeteer<1.1,>=1->nbconvert[webpdf]) (0.4.5)\n",
      "Requirement already satisfied: pyparsing!=3.0.5,>=2.0.2 in c:\\users\\johnw\\anaconda3\\lib\\site-packages (from packaging->bleach->nbconvert[webpdf]) (3.0.9)\n",
      "Note: you may need to restart the kernel to use updated packages.\n"
     ]
    }
   ],
   "source": [
    "pip install nbconvert[webpdf]"
   ]
  },
  {
   "cell_type": "code",
   "execution_count": 2,
   "id": "e4864cc0",
   "metadata": {},
   "outputs": [
    {
     "name": "stdout",
     "output_type": "stream",
     "text": [
      "Requirement already satisfied: seaborn in c:\\users\\johnw\\anaconda3\\lib\\site-packages (0.11.2)\n",
      "Requirement already satisfied: matplotlib>=2.2 in c:\\users\\johnw\\anaconda3\\lib\\site-packages (from seaborn) (3.5.2)\n",
      "Requirement already satisfied: scipy>=1.0 in c:\\users\\johnw\\anaconda3\\lib\\site-packages (from seaborn) (1.9.1)\n",
      "Requirement already satisfied: numpy>=1.15 in c:\\users\\johnw\\anaconda3\\lib\\site-packages (from seaborn) (1.21.5)\n",
      "Requirement already satisfied: pandas>=0.23 in c:\\users\\johnw\\anaconda3\\lib\\site-packages (from seaborn) (1.4.4)\n",
      "Requirement already satisfied: pillow>=6.2.0 in c:\\users\\johnw\\anaconda3\\lib\\site-packages (from matplotlib>=2.2->seaborn) (9.2.0)\n",
      "Requirement already satisfied: fonttools>=4.22.0 in c:\\users\\johnw\\anaconda3\\lib\\site-packages (from matplotlib>=2.2->seaborn) (4.25.0)\n",
      "Requirement already satisfied: packaging>=20.0 in c:\\users\\johnw\\anaconda3\\lib\\site-packages (from matplotlib>=2.2->seaborn) (21.3)\n",
      "Requirement already satisfied: cycler>=0.10 in c:\\users\\johnw\\anaconda3\\lib\\site-packages (from matplotlib>=2.2->seaborn) (0.11.0)\n",
      "Requirement already satisfied: kiwisolver>=1.0.1 in c:\\users\\johnw\\anaconda3\\lib\\site-packages (from matplotlib>=2.2->seaborn) (1.4.2)\n",
      "Requirement already satisfied: pyparsing>=2.2.1 in c:\\users\\johnw\\anaconda3\\lib\\site-packages (from matplotlib>=2.2->seaborn) (3.0.9)\n",
      "Requirement already satisfied: python-dateutil>=2.7 in c:\\users\\johnw\\anaconda3\\lib\\site-packages (from matplotlib>=2.2->seaborn) (2.8.2)\n",
      "Requirement already satisfied: pytz>=2020.1 in c:\\users\\johnw\\anaconda3\\lib\\site-packages (from pandas>=0.23->seaborn) (2022.1)\n",
      "Requirement already satisfied: six>=1.5 in c:\\users\\johnw\\anaconda3\\lib\\site-packages (from python-dateutil>=2.7->matplotlib>=2.2->seaborn) (1.16.0)\n",
      "Note: you may need to restart the kernel to use updated packages.\n"
     ]
    }
   ],
   "source": [
    "pip install seaborn"
   ]
  },
  {
   "cell_type": "code",
   "execution_count": 3,
   "id": "fdc619cc",
   "metadata": {
    "scrolled": true
   },
   "outputs": [
    {
     "name": "stdout",
     "output_type": "stream",
     "text": [
      "Requirement already satisfied: nltk in c:\\users\\johnw\\anaconda3\\lib\\site-packages (3.7)\n",
      "Requirement already satisfied: tqdm in c:\\users\\johnw\\anaconda3\\lib\\site-packages (from nltk) (4.64.1)\n",
      "Requirement already satisfied: joblib in c:\\users\\johnw\\anaconda3\\lib\\site-packages (from nltk) (1.1.0)\n",
      "Requirement already satisfied: regex>=2021.8.3 in c:\\users\\johnw\\anaconda3\\lib\\site-packages (from nltk) (2022.7.9)\n",
      "Requirement already satisfied: click in c:\\users\\johnw\\anaconda3\\lib\\site-packages (from nltk) (8.0.4)\n",
      "Requirement already satisfied: colorama in c:\\users\\johnw\\anaconda3\\lib\\site-packages (from click->nltk) (0.4.5)\n",
      "Note: you may need to restart the kernel to use updated packages.\n"
     ]
    }
   ],
   "source": [
    "pip install nltk"
   ]
  },
  {
   "cell_type": "code",
   "execution_count": 5,
   "id": "521851be",
   "metadata": {},
   "outputs": [
    {
     "name": "stdout",
     "output_type": "stream",
     "text": [
      "Collecting plotly_express\n",
      "  Downloading plotly_express-0.4.1-py2.py3-none-any.whl (2.9 kB)\n",
      "Requirement already satisfied: statsmodels>=0.9.0 in c:\\users\\johnw\\anaconda3\\lib\\site-packages (from plotly_express) (0.13.2)\n",
      "Requirement already satisfied: numpy>=1.11 in c:\\users\\johnw\\anaconda3\\lib\\site-packages (from plotly_express) (1.21.5)\n",
      "Requirement already satisfied: pandas>=0.20.0 in c:\\users\\johnw\\anaconda3\\lib\\site-packages (from plotly_express) (1.4.4)\n",
      "Requirement already satisfied: plotly>=4.1.0 in c:\\users\\johnw\\anaconda3\\lib\\site-packages (from plotly_express) (5.9.0)\n",
      "Requirement already satisfied: patsy>=0.5 in c:\\users\\johnw\\anaconda3\\lib\\site-packages (from plotly_express) (0.5.2)\n",
      "Requirement already satisfied: scipy>=0.18 in c:\\users\\johnw\\anaconda3\\lib\\site-packages (from plotly_express) (1.9.1)\n",
      "Requirement already satisfied: pytz>=2020.1 in c:\\users\\johnw\\anaconda3\\lib\\site-packages (from pandas>=0.20.0->plotly_express) (2022.1)\n",
      "Requirement already satisfied: python-dateutil>=2.8.1 in c:\\users\\johnw\\anaconda3\\lib\\site-packages (from pandas>=0.20.0->plotly_express) (2.8.2)\n",
      "Requirement already satisfied: six in c:\\users\\johnw\\anaconda3\\lib\\site-packages (from patsy>=0.5->plotly_express) (1.16.0)\n",
      "Requirement already satisfied: tenacity>=6.2.0 in c:\\users\\johnw\\anaconda3\\lib\\site-packages (from plotly>=4.1.0->plotly_express) (8.0.1)\n",
      "Requirement already satisfied: packaging>=21.3 in c:\\users\\johnw\\anaconda3\\lib\\site-packages (from statsmodels>=0.9.0->plotly_express) (21.3)\n",
      "Requirement already satisfied: pyparsing!=3.0.5,>=2.0.2 in c:\\users\\johnw\\anaconda3\\lib\\site-packages (from packaging>=21.3->statsmodels>=0.9.0->plotly_express) (3.0.9)\n",
      "Installing collected packages: plotly_express\n",
      "Successfully installed plotly_express-0.4.1\n",
      "Note: you may need to restart the kernel to use updated packages.\n"
     ]
    }
   ],
   "source": [
    "pip install plotly_express"
   ]
  },
  {
   "cell_type": "code",
   "execution_count": 7,
   "id": "f779b7b1",
   "metadata": {},
   "outputs": [
    {
     "name": "stdout",
     "output_type": "stream",
     "text": [
      "Note: you may need to restart the kernel to use updated packages.\n"
     ]
    },
    {
     "name": "stderr",
     "output_type": "stream",
     "text": [
      "ERROR: Could not find a version that satisfies the requirement sys (from versions: none)\n",
      "ERROR: No matching distribution found for sys\n"
     ]
    }
   ],
   "source": [
    "pip install sys"
   ]
  },
  {
   "cell_type": "code",
   "execution_count": 8,
   "id": "ed99e8b6",
   "metadata": {},
   "outputs": [
    {
     "name": "stdout",
     "output_type": "stream",
     "text": [
      "Collecting textparser\n",
      "  Downloading textparser-0.24.0-py3-none-any.whl (8.3 kB)\n",
      "Installing collected packages: textparser\n",
      "Successfully installed textparser-0.24.0\n",
      "Note: you may need to restart the kernel to use updated packages.\n"
     ]
    }
   ],
   "source": [
    "pip install textparser"
   ]
  },
  {
   "cell_type": "code",
   "execution_count": 2,
   "id": "db976b71",
   "metadata": {
    "scrolled": true
   },
   "outputs": [
    {
     "name": "stdout",
     "output_type": "stream",
     "text": [
      "Collecting hac\n",
      "  Downloading hac-1.0.5-py2.py3-none-any.whl (42 kB)\n",
      "     ---------------------------------------- 42.3/42.3 kB 2.0 MB/s eta 0:00:00\n",
      "Requirement already satisfied: requests>=2.3.0 in c:\\users\\johnw\\anaconda3\\lib\\site-packages (from hac) (2.28.1)\n",
      "Requirement already satisfied: lxml>=3.3.5 in c:\\users\\johnw\\anaconda3\\lib\\site-packages (from hac) (4.9.1)\n",
      "Requirement already satisfied: idna<4,>=2.5 in c:\\users\\johnw\\anaconda3\\lib\\site-packages (from requests>=2.3.0->hac) (3.3)\n",
      "Requirement already satisfied: urllib3<1.27,>=1.21.1 in c:\\users\\johnw\\anaconda3\\lib\\site-packages (from requests>=2.3.0->hac) (1.26.11)\n",
      "Requirement already satisfied: charset-normalizer<3,>=2 in c:\\users\\johnw\\anaconda3\\lib\\site-packages (from requests>=2.3.0->hac) (2.0.4)\n",
      "Requirement already satisfied: certifi>=2017.4.17 in c:\\users\\johnw\\anaconda3\\lib\\site-packages (from requests>=2.3.0->hac) (2022.9.14)\n",
      "Installing collected packages: hac\n",
      "Successfully installed hac-1.0.5\n",
      "Note: you may need to restart the kernel to use updated packages.\n"
     ]
    }
   ],
   "source": [
    "pip install hac"
   ]
  },
  {
   "cell_type": "code",
   "execution_count": 1,
   "id": "8cd1330c",
   "metadata": {
    "scrolled": true
   },
   "outputs": [
    {
     "name": "stdout",
     "output_type": "stream",
     "text": [
      "Collecting vaderSentiment\n",
      "  Downloading vaderSentiment-3.3.2-py2.py3-none-any.whl (125 kB)\n",
      "     -------------------------------------- 126.0/126.0 kB 3.7 MB/s eta 0:00:00\n",
      "Requirement already satisfied: requests in c:\\users\\johnw\\anaconda3\\lib\\site-packages (from vaderSentiment) (2.28.1)\n",
      "Requirement already satisfied: idna<4,>=2.5 in c:\\users\\johnw\\anaconda3\\lib\\site-packages (from requests->vaderSentiment) (3.3)\n",
      "Requirement already satisfied: urllib3<1.27,>=1.21.1 in c:\\users\\johnw\\anaconda3\\lib\\site-packages (from requests->vaderSentiment) (1.26.11)\n",
      "Requirement already satisfied: charset-normalizer<3,>=2 in c:\\users\\johnw\\anaconda3\\lib\\site-packages (from requests->vaderSentiment) (2.0.4)\n",
      "Requirement already satisfied: certifi>=2017.4.17 in c:\\users\\johnw\\anaconda3\\lib\\site-packages (from requests->vaderSentiment) (2022.9.14)\n",
      "Installing collected packages: vaderSentiment\n",
      "Successfully installed vaderSentiment-3.3.2\n",
      "Note: you may need to restart the kernel to use updated packages.\n"
     ]
    }
   ],
   "source": [
    "pip install vaderSentiment"
   ]
  },
  {
   "cell_type": "code",
   "execution_count": 1,
   "id": "7d5438bd",
   "metadata": {
    "scrolled": true
   },
   "outputs": [
    {
     "name": "stdout",
     "output_type": "stream",
     "text": [
      "Collecting kaleido\n",
      "  Downloading kaleido-0.2.1-py2.py3-none-win_amd64.whl (65.9 MB)\n",
      "     ---------------------------------------- 65.9/65.9 MB 2.0 MB/s eta 0:00:00\n",
      "Installing collected packages: kaleido\n",
      "Successfully installed kaleido-0.2.1\n",
      "Note: you may need to restart the kernel to use updated packages.\n"
     ]
    }
   ],
   "source": [
    "pip install kaleido"
   ]
  },
  {
   "cell_type": "code",
   "execution_count": 4,
   "id": "2d0d3406",
   "metadata": {
    "scrolled": false
   },
   "outputs": [
    {
     "name": "stdout",
     "output_type": "stream",
     "text": [
      "Requirement already satisfied: beautifulsoup4 in c:\\users\\johnw\\anaconda3\\lib\\site-packages (4.11.1)\n",
      "Requirement already satisfied: soupsieve>1.2 in c:\\users\\johnw\\anaconda3\\lib\\site-packages (from beautifulsoup4) (2.3.1)\n",
      "Note: you may need to restart the kernel to use updated packages.\n"
     ]
    }
   ],
   "source": [
    "pip install beautifulsoup4"
   ]
  },
  {
   "cell_type": "code",
   "execution_count": 1,
   "id": "3a659a46",
   "metadata": {
    "scrolled": true
   },
   "outputs": [
    {
     "name": "stdout",
     "output_type": "stream",
     "text": [
      "Requirement already satisfied: requests in c:\\users\\johnw\\anaconda3\\lib\\site-packages (2.28.1)\n",
      "Requirement already satisfied: urllib3<1.27,>=1.21.1 in c:\\users\\johnw\\anaconda3\\lib\\site-packages (from requests) (1.26.11)\n",
      "Requirement already satisfied: idna<4,>=2.5 in c:\\users\\johnw\\anaconda3\\lib\\site-packages (from requests) (3.3)\n",
      "Requirement already satisfied: charset-normalizer<3,>=2 in c:\\users\\johnw\\anaconda3\\lib\\site-packages (from requests) (2.0.4)\n",
      "Requirement already satisfied: certifi>=2017.4.17 in c:\\users\\johnw\\anaconda3\\lib\\site-packages (from requests) (2022.9.14)\n",
      "Note: you may need to restart the kernel to use updated packages.\n"
     ]
    }
   ],
   "source": [
    "pip install requests"
   ]
  },
  {
   "cell_type": "code",
   "execution_count": 2,
   "id": "37efdfdf",
   "metadata": {},
   "outputs": [
    {
     "name": "stdout",
     "output_type": "stream",
     "text": [
      "Collecting seleniumNote: you may need to restart the kernel to use updated packages.\n",
      "\n",
      "  Downloading selenium-4.9.1-py3-none-any.whl (6.6 MB)\n",
      "     ---------------------------------------- 6.6/6.6 MB 9.7 MB/s eta 0:00:00\n",
      "Requirement already satisfied: certifi>=2021.10.8 in c:\\users\\johnw\\anaconda3\\lib\\site-packages (from selenium) (2022.9.14)\n",
      "Collecting trio-websocket~=0.9\n",
      "  Downloading trio_websocket-0.10.2-py3-none-any.whl (17 kB)\n",
      "Collecting trio~=0.17\n",
      "  Downloading trio-0.22.0-py3-none-any.whl (384 kB)\n",
      "     -------------------------------------- 384.9/384.9 kB 8.0 MB/s eta 0:00:00\n",
      "Requirement already satisfied: urllib3[socks]<3,>=1.26 in c:\\users\\johnw\\anaconda3\\lib\\site-packages (from selenium) (1.26.11)\n",
      "Requirement already satisfied: attrs>=19.2.0 in c:\\users\\johnw\\anaconda3\\lib\\site-packages (from trio~=0.17->selenium) (21.4.0)\n",
      "Collecting async-generator>=1.9\n",
      "  Downloading async_generator-1.10-py3-none-any.whl (18 kB)\n",
      "Requirement already satisfied: idna in c:\\users\\johnw\\anaconda3\\lib\\site-packages (from trio~=0.17->selenium) (3.3)\n",
      "Requirement already satisfied: cffi>=1.14 in c:\\users\\johnw\\anaconda3\\lib\\site-packages (from trio~=0.17->selenium) (1.15.1)\n",
      "Collecting outcome\n",
      "  Downloading outcome-1.2.0-py2.py3-none-any.whl (9.7 kB)\n",
      "Requirement already satisfied: sniffio in c:\\users\\johnw\\anaconda3\\lib\\site-packages (from trio~=0.17->selenium) (1.2.0)\n",
      "Collecting exceptiongroup>=1.0.0rc9\n",
      "  Downloading exceptiongroup-1.1.1-py3-none-any.whl (14 kB)\n",
      "Requirement already satisfied: sortedcontainers in c:\\users\\johnw\\anaconda3\\lib\\site-packages (from trio~=0.17->selenium) (2.4.0)\n",
      "Collecting wsproto>=0.14\n",
      "  Downloading wsproto-1.2.0-py3-none-any.whl (24 kB)\n",
      "Requirement already satisfied: PySocks!=1.5.7,<2.0,>=1.5.6 in c:\\users\\johnw\\anaconda3\\lib\\site-packages (from urllib3[socks]<3,>=1.26->selenium) (1.7.1)\n",
      "Requirement already satisfied: pycparser in c:\\users\\johnw\\anaconda3\\lib\\site-packages (from cffi>=1.14->trio~=0.17->selenium) (2.21)\n",
      "Collecting h11<1,>=0.9.0\n",
      "  Downloading h11-0.14.0-py3-none-any.whl (58 kB)\n",
      "     ---------------------------------------- 58.3/58.3 kB 1.5 MB/s eta 0:00:00\n",
      "Installing collected packages: outcome, h11, exceptiongroup, async-generator, wsproto, trio, trio-websocket, selenium\n",
      "Successfully installed async-generator-1.10 exceptiongroup-1.1.1 h11-0.14.0 outcome-1.2.0 selenium-4.9.1 trio-0.22.0 trio-websocket-0.10.2 wsproto-1.2.0\n"
     ]
    }
   ],
   "source": [
    "pip install selenium"
   ]
  }
 ],
 "metadata": {
  "kernelspec": {
   "display_name": "Python 3 (ipykernel)",
   "language": "python",
   "name": "python3"
  },
  "language_info": {
   "codemirror_mode": {
    "name": "ipython",
    "version": 3
   },
   "file_extension": ".py",
   "mimetype": "text/x-python",
   "name": "python",
   "nbconvert_exporter": "python",
   "pygments_lexer": "ipython3",
   "version": "3.9.13"
  }
 },
 "nbformat": 4,
 "nbformat_minor": 5
}
