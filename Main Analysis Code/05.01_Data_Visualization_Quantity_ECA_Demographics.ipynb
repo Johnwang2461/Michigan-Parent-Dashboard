{
 "cells": [
  {
   "cell_type": "markdown",
   "id": "cbddd6ba",
   "metadata": {},
   "source": [
    "# Set-up"
   ]
  },
  {
   "cell_type": "code",
   "execution_count": 1,
   "id": "b0987b37",
   "metadata": {},
   "outputs": [],
   "source": [
    "#pip install dash"
   ]
  },
  {
   "cell_type": "code",
   "execution_count": 13,
   "id": "4d9a2744",
   "metadata": {},
   "outputs": [],
   "source": [
    "import pandas as pd\n",
    "import re\n",
    "import sklearn\n",
    "from sklearn.linear_model import LinearRegression\n",
    "import statsmodels.api as sm\n",
    "from scipy import stats\n",
    "import numpy as np\n",
    "import matplotlib.pyplot as plt\n",
    "import random\n",
    "random.seed(42)\n",
    "\n",
    "import dash\n",
    "from dash import dcc, html\n",
    "import plotly.express as px\n",
    "import plotly.graph_objs as go\n",
    "import plotly.io as pio\n",
    "from plotly.offline import iplot, init_notebook_mode"
   ]
  },
  {
   "cell_type": "code",
   "execution_count": 3,
   "id": "060ee150",
   "metadata": {
    "scrolled": true
   },
   "outputs": [],
   "source": [
    "data_home = \"C:/Users/johnw/Box/Michigan Parent Dashboard/Michigan Data\"\n",
    "\n",
    "MIGENEDUSCHOOLDATA = pd.read_csv(f\"{data_home}/MIGENEDUSCHOOLDATA_11_27_23.csv\", low_memory=False)"
   ]
  },
  {
   "cell_type": "code",
   "execution_count": 4,
   "id": "f76f9e48",
   "metadata": {},
   "outputs": [
    {
     "name": "stderr",
     "output_type": "stream",
     "text": [
      "C:\\Users\\johnw\\AppData\\Local\\Temp\\ipykernel_27512\\397745033.py:4: SettingWithCopyWarning:\n",
      "\n",
      "\n",
      "A value is trying to be set on a copy of a slice from a DataFrame.\n",
      "Try using .loc[row_indexer,col_indexer] = value instead\n",
      "\n",
      "See the caveats in the documentation: https://pandas.pydata.org/pandas-docs/stable/user_guide/indexing.html#returning-a-view-versus-a-copy\n",
      "\n",
      "C:\\Users\\johnw\\AppData\\Local\\Temp\\ipykernel_27512\\397745033.py:5: SettingWithCopyWarning:\n",
      "\n",
      "\n",
      "A value is trying to be set on a copy of a slice from a DataFrame.\n",
      "Try using .loc[row_indexer,col_indexer] = value instead\n",
      "\n",
      "See the caveats in the documentation: https://pandas.pydata.org/pandas-docs/stable/user_guide/indexing.html#returning-a-view-versus-a-copy\n",
      "\n",
      "C:\\Users\\johnw\\AppData\\Local\\Temp\\ipykernel_27512\\397745033.py:6: SettingWithCopyWarning:\n",
      "\n",
      "\n",
      "A value is trying to be set on a copy of a slice from a DataFrame.\n",
      "Try using .loc[row_indexer,col_indexer] = value instead\n",
      "\n",
      "See the caveats in the documentation: https://pandas.pydata.org/pandas-docs/stable/user_guide/indexing.html#returning-a-view-versus-a-copy\n",
      "\n",
      "C:\\Users\\johnw\\AppData\\Local\\Temp\\ipykernel_27512\\397745033.py:7: SettingWithCopyWarning:\n",
      "\n",
      "\n",
      "A value is trying to be set on a copy of a slice from a DataFrame.\n",
      "Try using .loc[row_indexer,col_indexer] = value instead\n",
      "\n",
      "See the caveats in the documentation: https://pandas.pydata.org/pandas-docs/stable/user_guide/indexing.html#returning-a-view-versus-a-copy\n",
      "\n",
      "C:\\Users\\johnw\\AppData\\Local\\Temp\\ipykernel_27512\\397745033.py:8: SettingWithCopyWarning:\n",
      "\n",
      "\n",
      "A value is trying to be set on a copy of a slice from a DataFrame.\n",
      "Try using .loc[row_indexer,col_indexer] = value instead\n",
      "\n",
      "See the caveats in the documentation: https://pandas.pydata.org/pandas-docs/stable/user_guide/indexing.html#returning-a-view-versus-a-copy\n",
      "\n"
     ]
    }
   ],
   "source": [
    "MIGENEDCOMPLETEWITHECA = MIGENEDUSCHOOLDATA[MIGENEDUSCHOOLDATA['extracurricular_missing'] == 0]\n",
    "\n",
    "# Create new columns with initial values as 0\n",
    "MIGENEDCOMPLETEWITHECA['EC_Sports'] = 0\n",
    "MIGENEDCOMPLETEWITHECA['EC_Academics'] = 0\n",
    "MIGENEDCOMPLETEWITHECA['EC_Arts'] = 0\n",
    "MIGENEDCOMPLETEWITHECA['EC_Civics'] = 0\n",
    "MIGENEDCOMPLETEWITHECA['EC_Vocational'] = 0\n",
    "\n",
    "# Set to 1 if School has a particular type of extracurricular\n",
    "MIGENEDCOMPLETEWITHECA.loc[(MIGENEDCOMPLETEWITHECA['EC_SPORTS_BASEBALL'] == 1) | (MIGENEDCOMPLETEWITHECA['EC_SPORTS_BSKTBALL'] == 1) | (MIGENEDCOMPLETEWITHECA['EC_SPORTS_BOWLING'] == 1) | (MIGENEDCOMPLETEWITHECA['EC_SPORTS_DIVING'] == 1) | (MIGENEDCOMPLETEWITHECA['EC_SPORTS_COMPCHEER'] == 1) | (MIGENEDCOMPLETEWITHECA['EC_SPORTS_CROSSCNTRY'] == 1) | (MIGENEDCOMPLETEWITHECA['EC_SPORTS_FOOTBALL'] == 1) | (MIGENEDCOMPLETEWITHECA['EC_SPORTS_GOLF'] == 1) | (MIGENEDCOMPLETEWITHECA['EC_SPORTS_GYMNAST'] == 1) | (MIGENEDCOMPLETEWITHECA['EC_SPORTS_ICEHOCKEY'] == 1) | (MIGENEDCOMPLETEWITHECA['EC_SPORTS_OTHSPRTS'] == 1) | (MIGENEDCOMPLETEWITHECA['EC_SPORTS_POWERLIFT'] == 1) | (MIGENEDCOMPLETEWITHECA['EC_SPORTS_SKIING'] == 1) | (MIGENEDCOMPLETEWITHECA['EC_SPORTS_SOFTBALL'] == 1) | (MIGENEDCOMPLETEWITHECA['EC_SPORTS_SOCCER'] == 1) | (MIGENEDCOMPLETEWITHECA['EC_SPORTS_SWIM'] == 1) | (MIGENEDCOMPLETEWITHECA['EC_SPORTS_TENNIS'] == 1) | (MIGENEDCOMPLETEWITHECA['EC_SPORTS_TRCKFIELD'] == 1) | (MIGENEDCOMPLETEWITHECA['EC_SPORTS_VOLBALL'] == 1) | (MIGENEDCOMPLETEWITHECA['EC_SPORTS_WRSTL'] == 1), 'EC_Sports'] = 1\n",
    "MIGENEDCOMPLETEWITHECA.loc[(MIGENEDCOMPLETEWITHECA['EC_CLUBS_HONSOC'] == 1) | (MIGENEDCOMPLETEWITHECA['EC_CLUBS_LITHUM'] == 1) | (MIGENEDCOMPLETEWITHECA['EC_CLUBS_ROBOTICS'] == 1) | (MIGENEDCOMPLETEWITHECA['EC_CLUBS_STEM'] == 1), 'EC_Academics'] = 1\n",
    "MIGENEDCOMPLETEWITHECA.loc[(MIGENEDCOMPLETEWITHECA['EC_CLUBS_MUSIC'] == 1) | (MIGENEDCOMPLETEWITHECA['EC_CLUBS_VISARTS'] == 1), 'EC_Arts'] = 1\n",
    "MIGENEDCOMPLETEWITHECA.loc[(MIGENEDCOMPLETEWITHECA['EC_CLUBS_NSLEAD'] == 1) | (MIGENEDCOMPLETEWITHECA['EC_CLUBS_PEERTUTMEN'] == 1) | (MIGENEDCOMPLETEWITHECA['EC_CLUBS_POLGOV'] == 1) | (MIGENEDCOMPLETEWITHECA['EC_CLUBS_SCHOOLCOM'] == 1) | (MIGENEDCOMPLETEWITHECA['EC_CLUBS_SPCHDEB'] == 1), 'EC_Civics'] = 1\n",
    "MIGENEDCOMPLETEWITHECA.loc[(MIGENEDCOMPLETEWITHECA['EC_CLUBS_CARFOC'] == 1) , 'EC_Vocational'] = 1"
   ]
  },
  {
   "cell_type": "code",
   "execution_count": 5,
   "id": "fc81f8d0",
   "metadata": {},
   "outputs": [
    {
     "data": {
      "text/html": [
       "        <script type=\"text/javascript\">\n",
       "        window.PlotlyConfig = {MathJaxConfig: 'local'};\n",
       "        if (window.MathJax && window.MathJax.Hub && window.MathJax.Hub.Config) {window.MathJax.Hub.Config({SVG: {font: \"STIX-Web\"}});}\n",
       "        if (typeof require !== 'undefined') {\n",
       "        require.undef(\"plotly\");\n",
       "        requirejs.config({\n",
       "            paths: {\n",
       "                'plotly': ['https://cdn.plot.ly/plotly-2.12.1.min']\n",
       "            }\n",
       "        });\n",
       "        require(['plotly'], function(Plotly) {\n",
       "            window._Plotly = Plotly;\n",
       "        });\n",
       "        }\n",
       "        </script>\n",
       "        "
      ]
     },
     "metadata": {},
     "output_type": "display_data"
    }
   ],
   "source": [
    "# Initialize Plotly in offline mode for Jupyter Notebook\n",
    "init_notebook_mode(connected=True)"
   ]
  },
  {
   "cell_type": "markdown",
   "id": "77d3d8ea",
   "metadata": {},
   "source": [
    "# Quantity of Extracurricular Activities Available and Demographics"
   ]
  },
  {
   "cell_type": "code",
   "execution_count": 24,
   "id": "8c4da771",
   "metadata": {
    "scrolled": false
   },
   "outputs": [
    {
     "data": {
      "text/html": [
       "\n",
       "        <iframe\n",
       "            width=\"100%\"\n",
       "            height=\"650\"\n",
       "            src=\"http://127.0.0.1:8050/\"\n",
       "            frameborder=\"0\"\n",
       "            allowfullscreen\n",
       "            \n",
       "        ></iframe>\n",
       "        "
      ],
      "text/plain": [
       "<IPython.lib.display.IFrame at 0x18c09ef4c40>"
      ]
     },
     "metadata": {},
     "output_type": "display_data"
    }
   ],
   "source": [
    "# Create a Dash application\n",
    "app = dash.Dash(__name__)\n",
    "\n",
    "# Define school levels and x-axis options\n",
    "school_levels = ['Elementary School', 'Middle School', 'High School']\n",
    "x_axis_options = ['per_white', 'per_asian', 'per_africanamerican', 'per_hispanic', 'per_other',\n",
    "                  'per_whiteasian', 'per_blackorhisp'\n",
    "]\n",
    "\n",
    "# Define corresponding labels for the x-axis options\n",
    "x_axis_labels = [\n",
    "    'White', 'Asian', 'Black', 'Hispanic', 'Other',\n",
    "    'White & Asian', 'Black & Hispanic'\n",
    "]\n",
    "\n",
    "# Combine options with labels for the dropdown\n",
    "x_axis_dropdown_options = [{'label': label, 'value': value} for label, value in zip(x_axis_labels, x_axis_options)]\n",
    "\n",
    "# Define a dictionary to map options to updated labels\n",
    "updated_labels = {\n",
    "    'per_whiteasian': 'White and Asian',\n",
    "    'per_blackorhisp': 'Black and Hispanic'\n",
    "}\n",
    "\n",
    "# Define the layout of the dashboard\n",
    "app.layout = html.Div([\n",
    "    html.H1(\"Quantity of Extracurricular Activities Available\"),\n",
    "    dcc.Dropdown(\n",
    "        id='outcome-dropdown',\n",
    "        options=[\n",
    "            {'label': 'Number of Extracurriculars', 'value': 'numextracurricular'},\n",
    "            {'label': 'Number of Clubs', 'value': 'numclubs'},\n",
    "            {'label': 'Number of Sports', 'value': 'numsports'}\n",
    "        ],\n",
    "        value='numextracurricular'  # Default value\n",
    "    ),\n",
    "    dcc.Dropdown(\n",
    "        id='school-level-dropdown',\n",
    "        options=[{'label': level, 'value': level} for level in school_levels],\n",
    "        value='Elementary School'  # Default value\n",
    "    ),\n",
    "    dcc.Dropdown(\n",
    "        id='x-axis-dropdown',\n",
    "        options=x_axis_dropdown_options,\n",
    "        value='per_white'  # Default value\n",
    "    ),\n",
    "    dcc.Graph(id='scatter-plot')\n",
    "])\n",
    "\n",
    "@app.callback(\n",
    "    dash.dependencies.Output('scatter-plot', 'figure'),\n",
    "    [dash.dependencies.Input('school-level-dropdown', 'value'),\n",
    "     dash.dependencies.Input('x-axis-dropdown', 'value'),\n",
    "     dash.dependencies.Input('outcome-dropdown', 'value')]\n",
    ")\n",
    "def update_scatter_plot(selected_school_level, selected_x_axis, selected_size):\n",
    "    # Filter data based on selected school level\n",
    "    selected_data = MIGENEDCOMPLETEWITHECA[MIGENEDCOMPLETEWITHECA['School Level'] == selected_school_level]\n",
    "    \n",
    "    # Extract selected columns\n",
    "    y = selected_data['per_ecodis']\n",
    "    x = selected_data[selected_x_axis]\n",
    "    size = selected_data[selected_size] * 4\n",
    "    color = selected_data[selected_size]\n",
    "    count = selected_data[selected_size]\n",
    "\n",
    "    # Update x-axis label if it's one of the modified options\n",
    "    x_axis_label = selected_x_axis\n",
    "    if selected_x_axis in updated_labels:\n",
    "        x_axis_label = updated_labels[selected_x_axis]\n",
    "\n",
    "    # Define the title based on the selected outcome\n",
    "    outcome_title = {\n",
    "        'numextracurricular': 'Number of Extracurricular Activities',\n",
    "        'numclubs': 'Number of Clubs',\n",
    "        'numsports': 'Number of Sports'\n",
    "    }\n",
    "    \n",
    "    # Create scatter plot\n",
    "    fig = px.scatter(\n",
    "        x=x, y=y, size=size, color=color, hover_data={'size': count},\n",
    "        color_continuous_scale='RdYlBu', opacity=0.8,\n",
    "        labels={'x': f'% {x_axis_label.replace(\"per_\", \"\").title()}',\n",
    "                'y': '% Economically Disadvantaged'},\n",
    "        title=f'{outcome_title[selected_size]}: {selected_school_level}' \n",
    "    )\n",
    "    \n",
    "    # Update x-axis category order and labels\n",
    "    return fig\n",
    "\n",
    "# Run the application\n",
    "if __name__ == '__main__':\n",
    "    app.run_server(debug=True)"
   ]
  }
 ],
 "metadata": {
  "kernelspec": {
   "display_name": "Python 3 (ipykernel)",
   "language": "python",
   "name": "python3"
  },
  "language_info": {
   "codemirror_mode": {
    "name": "ipython",
    "version": 3
   },
   "file_extension": ".py",
   "mimetype": "text/x-python",
   "name": "python",
   "nbconvert_exporter": "python",
   "pygments_lexer": "ipython3",
   "version": "3.9.13"
  }
 },
 "nbformat": 4,
 "nbformat_minor": 5
}
